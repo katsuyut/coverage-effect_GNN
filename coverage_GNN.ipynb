{
 "cells": [
  {
   "cell_type": "code",
   "execution_count": 1,
   "metadata": {},
   "outputs": [],
   "source": [
    "import numpy as np\n",
    "import os.path as osp\n",
    "import torch\n",
    "import torch.nn.functional as F\n",
    "from torch_geometric.data import Data, DataLoader\n",
    "from torch_geometric.nn import CGConv\n",
    "from random import shuffle, randint\n",
    "import networkx as nx\n",
    "import matplotlib.pyplot as plt\n",
    "import random\n",
    "from sklearn.preprocessing import StandardScaler\n",
    "import argparse\n",
    "import pickle\n",
    "from models import simpleNet, comp1Net, comp2Net\n",
    "from util import get_loss, get_plot\n",
    "from statistics import stdev"
   ]
  },
  {
   "cell_type": "code",
   "execution_count": null,
   "metadata": {},
   "outputs": [],
   "source": [
    "parser = argparse.ArgumentParser(description='GNN for coverage effect')\n",
    "\n",
    "parser.add_argument('--case',     default='noname', type=str)\n",
    "parser.add_argument('--nepoch',   default=5,        type=int)\n",
    "parser.add_argument('--mo',       default='simple', type=str)\n",
    "parser.add_argument('--nconv',    default=1,        type=int)\n",
    "parser.add_argument('--datatype', default='data',   type=str)\n",
    "parser.add_argument('--ytype',    default='slab',   type=str)\n",
    "parser.add_argument('--lr',       default=0.001,    type=float)\n",
    "parser.add_argument('--save',     default='no',     type=str)\n",
    "\n",
    "args = parser.parse_args()    # 4. 引数を解析\n",
    "\n",
    "case = args.case\n",
    "nepoch = args.nepoch\n",
    "mo = args.mo\n",
    "nconv = args.nconv\n",
    "datatype = args.datatype\n",
    "ytype = args.ytype\n",
    "lr = args.lr\n",
    "save = args.save"
   ]
  },
  {
   "cell_type": "code",
   "execution_count": null,
   "metadata": {},
   "outputs": [],
   "source": [
    "# case = 'noname'\n",
    "# # nepoch = 10\n",
    "# mo = 'simple'\n",
    "# nconv = 1\n",
    "# datatype = 'data'\n",
    "# ytype = 'slab' # 3:slab, 4:space, 5:all\n",
    "# # lr = 0.001\n",
    "# save = 'no'"
   ]
  },
  {
   "cell_type": "code",
   "execution_count": null,
   "metadata": {},
   "outputs": [],
   "source": [
    "import pickle\n",
    "\n",
    "with open('data.pickle', 'rb') as lb:\n",
    "    rdata = pickle.load(lb)\n",
    "    edge_indexes,features,surf_filters,ys_slab,ys_space,ys_all = rdata\n",
    "    \n",
    "allinone = []\n",
    "for feature in features:\n",
    "    for each in feature:\n",
    "        allinone.append(each)\n",
    "allinone = np.array(allinone)\n",
    "scaler = StandardScaler().fit(allinone[:,:8])"
   ]
  },
  {
   "cell_type": "code",
   "execution_count": null,
   "metadata": {},
   "outputs": [],
   "source": [
    "with open(datatype+'.pickle', 'rb') as lb:\n",
    "    rdata = pickle.load(lb)\n",
    "    edge_indexes,features,surf_filters = rdata[:3]\n",
    "    ys_slab,ys_space,ys_all = rdata[3:]"
   ]
  },
  {
   "cell_type": "code",
   "execution_count": null,
   "metadata": {},
   "outputs": [],
   "source": [
    "scfeatures = []\n",
    "\n",
    "for feature in features:\n",
    "    feature_sl = scaler.transform(feature[:,:8])\n",
    "    feature_ad = feature[:,8:]\n",
    "    scfeatures.append(np.concatenate((feature_sl, feature_ad), axis=1))\n",
    "    \n",
    "features = np.array(scfeatures)\n",
    "# features"
   ]
  },
  {
   "cell_type": "code",
   "execution_count": null,
   "metadata": {},
   "outputs": [],
   "source": [
    "if ytype=='slab':\n",
    "    ys = rdata[-3]\n",
    "elif ytype=='space':\n",
    "    ys = rdata[-2]\n",
    "elif ytype=='all':\n",
    "    ys = rdata[-1]"
   ]
  },
  {
   "cell_type": "code",
   "execution_count": null,
   "metadata": {},
   "outputs": [],
   "source": [
    "data_list = []\n",
    "for i in range(len(ys_all)):\n",
    "    edge_index = torch.tensor(edge_indexes[i], dtype=torch.long)\n",
    "    x = torch.tensor(features[i], dtype=torch.float)\n",
    "    surf_filter = torch.tensor(surf_filters[i], dtype=torch.long)\n",
    "    y = torch.tensor(ys_slab[i], dtype=torch.float)\n",
    "    data = Data(x=x, edge_index=edge_index, surf_filter=surf_filter, y=y)\n",
    "    data_list.append(data)"
   ]
  },
  {
   "cell_type": "code",
   "execution_count": null,
   "metadata": {},
   "outputs": [],
   "source": [
    "in_ch = len(features[0][0])\n",
    "in_ch_sl = 8\n",
    "in_ch_ad = len(features[0][0]) - 8"
   ]
  },
  {
   "cell_type": "code",
   "execution_count": null,
   "metadata": {},
   "outputs": [],
   "source": [
    "device = torch.device('cuda' if torch.cuda.is_available() else 'cpu')"
   ]
  },
  {
   "cell_type": "code",
   "execution_count": null,
   "metadata": {},
   "outputs": [],
   "source": [
    "import copy\n",
    "data_list_ = copy.deepcopy(data_list) # all"
   ]
  },
  {
   "cell_type": "code",
   "execution_count": null,
   "metadata": {},
   "outputs": [],
   "source": [
    "if mo == 'simple':\n",
    "    model = simpleNet(in_ch, nconv).to(device)\n",
    "elif mo == 'comp1':\n",
    "    model = comp1Net(in_ch_sl, in_ch_ad, nconv).to(device)\n",
    "elif mo == 'comp2':\n",
    "    model = comp2Net(in_ch_sl, in_ch_ad, nconv).to(device)"
   ]
  },
  {
   "cell_type": "code",
   "execution_count": null,
   "metadata": {},
   "outputs": [],
   "source": [
    "random.shuffle(data_list_)\n",
    "train_list = data_list_[:int(len(data_list_)*0.67)]\n",
    "test_list = data_list_[int(len(data_list_)*0.67):]"
   ]
  },
  {
   "cell_type": "code",
   "execution_count": null,
   "metadata": {},
   "outputs": [],
   "source": [
    "if mo=='simple':\n",
    "    model = simpleNet(in_ch, nconv).to(device)\n",
    "elif mo=='comp1':\n",
    "    model = comp1Net(in_ch_sl, in_ch_ad, nconv).to(device)\n",
    "elif mo=='comp2':\n",
    "    model = comp2Net(in_ch_sl, in_ch_ad, nconv).to(device)    \n",
    "    \n",
    "optimizer = torch.optim.Adam(model.parameters(), lr=lr, weight_decay=5e-4)\n",
    "loss_list = []"
   ]
  },
  {
   "cell_type": "code",
   "execution_count": null,
   "metadata": {},
   "outputs": [],
   "source": [
    "model.train()\n",
    "\n",
    "for epoch in range(nepoch):\n",
    "    for data in train_list:\n",
    "        optimizer.zero_grad()\n",
    "        data = data.to(device)\n",
    "        out = model.train()(data)\n",
    "        loss = F.mse_loss(out, data.y)\n",
    "        loss.backward()\n",
    "        optimizer.step()\n",
    "    loss_list.append(get_loss(model.eval(),train_list))\n",
    "    if (epoch+1)%5==0:\n",
    "        print('epoch %d RMSE :%f' % (epoch+1, loss_list[-1]**0.5))\n",
    "    \n",
    "torch.save(model.state_dict(), './models/'+case+'.pth')"
   ]
  },
  {
   "cell_type": "code",
   "execution_count": null,
   "metadata": {},
   "outputs": [],
   "source": [
    "plt.figure()\n",
    "plt.plot(loss_list)\n",
    "plt.yscale('log')\n",
    "plt.savefig('./figs/'+case+'_loss.png')\n",
    "plt.show()"
   ]
  },
  {
   "cell_type": "code",
   "execution_count": null,
   "metadata": {},
   "outputs": [],
   "source": [
    "model.eval()"
   ]
  },
  {
   "cell_type": "code",
   "execution_count": null,
   "metadata": {},
   "outputs": [],
   "source": [
    "get_plot(model,train_list,case+'_train','yes')"
   ]
  },
  {
   "cell_type": "code",
   "execution_count": null,
   "metadata": {},
   "outputs": [],
   "source": [
    "get_plot(model,test_list,case+'_test','yes')"
   ]
  },
  {
   "cell_type": "code",
   "execution_count": null,
   "metadata": {},
   "outputs": [],
   "source": [
    "trainloss = get_loss(model,train_list)**0.5\n",
    "trainloss"
   ]
  },
  {
   "cell_type": "code",
   "execution_count": null,
   "metadata": {},
   "outputs": [],
   "source": [
    "testloss = get_loss(model,test_list)**0.5\n",
    "testloss"
   ]
  },
  {
   "cell_type": "code",
   "execution_count": null,
   "metadata": {},
   "outputs": [],
   "source": [
    "allloss = get_loss(model,data_list)**0.5\n",
    "allloss"
   ]
  },
  {
   "cell_type": "code",
   "execution_count": null,
   "metadata": {},
   "outputs": [],
   "source": [
    "with open('result.txt','a') as file:\n",
    "    file.write('%s %f %f %f\\n' % (case, trainloss, testloss, allloss))"
   ]
  },
  {
   "cell_type": "code",
   "execution_count": null,
   "metadata": {},
   "outputs": [],
   "source": []
  }
 ],
 "metadata": {
  "kernelspec": {
   "display_name": "Python 3",
   "language": "python",
   "name": "python3"
  },
  "language_info": {
   "codemirror_mode": {
    "name": "ipython",
    "version": 3
   },
   "file_extension": ".py",
   "mimetype": "text/x-python",
   "name": "python",
   "nbconvert_exporter": "python",
   "pygments_lexer": "ipython3",
   "version": "3.6.9"
  }
 },
 "nbformat": 4,
 "nbformat_minor": 4
}
