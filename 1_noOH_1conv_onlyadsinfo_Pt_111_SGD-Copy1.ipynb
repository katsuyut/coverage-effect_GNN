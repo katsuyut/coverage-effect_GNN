{
 "cells": [
  {
   "cell_type": "code",
   "execution_count": 47,
   "metadata": {},
   "outputs": [],
   "source": [
    "import numpy as np\n",
    "import os.path as osp\n",
    "import torch\n",
    "import torch.nn.functional as F\n",
    "from torch_geometric.data import Data, DataLoader\n",
    "from random import shuffle, randint\n",
    "import networkx as nx\n",
    "import matplotlib.pyplot as plt\n",
    "import random"
   ]
  },
  {
   "cell_type": "code",
   "execution_count": 48,
   "metadata": {},
   "outputs": [],
   "source": [
    "import pickle"
   ]
  },
  {
   "cell_type": "code",
   "execution_count": 49,
   "metadata": {},
   "outputs": [],
   "source": [
    "with open('data_100.pickle', 'rb') as lb:\n",
    "    rdata = pickle.load(lb)\n",
    "    edge_indexes,features,surf_filters,ys_slab,ys_space,ys_all = rdata"
   ]
  },
  {
   "cell_type": "code",
   "execution_count": 50,
   "metadata": {
    "scrolled": true
   },
   "outputs": [],
   "source": [
    "tmp = []\n",
    "for item in features:\n",
    "    tmp.append(item[:,-4:])\n",
    "features = np.array(tmp)"
   ]
  },
  {
   "cell_type": "code",
   "execution_count": 51,
   "metadata": {
    "scrolled": true
   },
   "outputs": [
    {
     "data": {
      "text/plain": [
       "array([[[10.3,  0. ,  0. ,  0. ],\n",
       "        [10.3,  1. ,  0. ,  0. ],\n",
       "        [10.3,  0. ,  0. ,  0. ],\n",
       "        ...,\n",
       "        [10.3,  0. ,  0. ,  0. ],\n",
       "        [10.3,  0. ,  0. ,  0. ],\n",
       "        [10.3,  0. ,  0. ,  0. ]],\n",
       "\n",
       "       [[10.3,  0. ,  0. ,  0. ],\n",
       "        [10.3,  1. ,  0. ,  0. ],\n",
       "        [10.3,  0. ,  0. ,  0. ],\n",
       "        ...,\n",
       "        [10.3,  0. ,  0. ,  0. ],\n",
       "        [10.3,  0. ,  0. ,  0. ],\n",
       "        [10.3,  0. ,  0. ,  0. ]],\n",
       "\n",
       "       [[10.3,  0. ,  0. ,  0. ],\n",
       "        [10.3,  1. ,  0. ,  0. ],\n",
       "        [10.3,  0. ,  0. ,  0. ],\n",
       "        ...,\n",
       "        [10.3,  1. ,  0. ,  0. ],\n",
       "        [10.3,  0. ,  0. ,  0. ],\n",
       "        [10.3,  0. ,  0. ,  0. ]],\n",
       "\n",
       "       ...,\n",
       "\n",
       "       [[ 8.3,  0. ,  0. ,  0. ],\n",
       "        [ 8.3,  0. ,  0. ,  3. ],\n",
       "        [ 8.3,  0. ,  0. ,  0. ],\n",
       "        ...,\n",
       "        [ 8.3,  0. ,  0. ,  3. ],\n",
       "        [ 8.3,  0. ,  0. ,  0. ],\n",
       "        [ 8.3,  0. ,  0. ,  0. ]],\n",
       "\n",
       "       [[ 8.3,  0. ,  0. ,  0. ],\n",
       "        [ 8.3,  0. ,  0. ,  4. ],\n",
       "        [ 8.3,  0. ,  0. ,  0. ],\n",
       "        ...,\n",
       "        [ 8.3,  0. ,  0. ,  4. ],\n",
       "        [ 8.3,  0. ,  0. ,  0. ],\n",
       "        [ 8.3,  0. ,  0. ,  0. ]],\n",
       "\n",
       "       [[ 8.3,  0. ,  0. ,  0. ],\n",
       "        [ 8.3,  0. ,  0. ,  2. ],\n",
       "        [ 8.3,  0. ,  0. ,  0. ],\n",
       "        ...,\n",
       "        [ 8.3,  0. ,  0. ,  2. ],\n",
       "        [ 8.3,  0. ,  0. ,  0. ],\n",
       "        [ 8.3,  0. ,  0. ,  0. ]]])"
      ]
     },
     "execution_count": 51,
     "metadata": {},
     "output_type": "execute_result"
    }
   ],
   "source": [
    "features"
   ]
  },
  {
   "cell_type": "code",
   "execution_count": 52,
   "metadata": {},
   "outputs": [],
   "source": [
    "data_list = []\n",
    "for i in range(len(ys_all)):\n",
    "    edge_index = torch.tensor(edge_indexes[i], dtype=torch.long)\n",
    "    x = torch.tensor(features[i], dtype=torch.float)\n",
    "    surf_filter = torch.tensor(surf_filters[i], dtype=torch.long)\n",
    "    y = torch.tensor(ys_space[i], dtype=torch.float)\n",
    "    data = Data(x=x, edge_index=edge_index, surf_filter=surf_filter, y=y)\n",
    "    data_list.append(data)"
   ]
  },
  {
   "cell_type": "code",
   "execution_count": 53,
   "metadata": {},
   "outputs": [
    {
     "data": {
      "text/plain": [
       "4"
      ]
     },
     "execution_count": 53,
     "metadata": {},
     "output_type": "execute_result"
    }
   ],
   "source": [
    "in_channels = len(data_list[0].x[0])\n",
    "in_channels"
   ]
  },
  {
   "cell_type": "code",
   "execution_count": 54,
   "metadata": {},
   "outputs": [],
   "source": [
    "import torch.nn.functional as F\n",
    "from torch_geometric.nn import CGConv\n",
    "\n",
    "class Net(torch.nn.Module):\n",
    "    def __init__(self, in_channels):\n",
    "        super(Net, self).__init__()\n",
    "        self.conv1 = CGConv(in_channels)\n",
    "        self.conv2 = CGConv(in_channels)\n",
    "        self.lin = torch.nn.Linear(in_channels, 1)\n",
    "    \n",
    "    def forward(self, data):\n",
    "        x, edge_index, surf_filter = data.x, data.edge_index, data.surf_filter\n",
    "\n",
    "        x = self.conv1(x, edge_index)\n",
    "        x = self.conv2(x, edge_index)\n",
    "        x = x * surf_filter.reshape(-1,1)\n",
    "        x = torch.sum(x, dim=0) / torch.sum(surf_filter)\n",
    "        y = self.lin(x)\n",
    "\n",
    "        return y"
   ]
  },
  {
   "cell_type": "code",
   "execution_count": 55,
   "metadata": {},
   "outputs": [],
   "source": [
    "device = torch.device('cuda' if torch.cuda.is_available() else 'cpu')"
   ]
  },
  {
   "cell_type": "code",
   "execution_count": 56,
   "metadata": {},
   "outputs": [],
   "source": [
    "import copy\n",
    "data_list_ = data_list[269:288] # Pt_111\n",
    "data_list_ = copy.deepcopy(data_list) # all"
   ]
  },
  {
   "cell_type": "code",
   "execution_count": 57,
   "metadata": {},
   "outputs": [],
   "source": [
    "random.shuffle(data_list_)\n",
    "train_list = data_list_[:int(len(data_list_)*0.67)]\n",
    "test_list = data_list_[int(len(data_list_)*0.67):]"
   ]
  },
  {
   "cell_type": "code",
   "execution_count": 58,
   "metadata": {},
   "outputs": [],
   "source": [
    "model = Net(in_channels).to(device)\n",
    "optimizer = torch.optim.Adam(model.parameters(), lr=0.001, weight_decay=5e-4)\n",
    "loss_list = []"
   ]
  },
  {
   "cell_type": "code",
   "execution_count": 59,
   "metadata": {},
   "outputs": [],
   "source": [
    "def get_loss(model,data_list):\n",
    "    totalloss = 0\n",
    "    for data in data_list:\n",
    "        data = data.to(device)\n",
    "        out = model(data)\n",
    "        loss = F.mse_loss(out, data.y) \n",
    "        totalloss += loss\n",
    "    return totalloss/len(data_list)"
   ]
  },
  {
   "cell_type": "code",
   "execution_count": 60,
   "metadata": {},
   "outputs": [],
   "source": [
    "def get_plot(model,data_list):\n",
    "    y = []\n",
    "    ypred = []\n",
    "    for data in data_list:\n",
    "        data = data.to(device)\n",
    "        out = model(data)\n",
    "        ypred.append(out)\n",
    "        y.append(data.y)\n",
    "    ypred = torch.tensor(ypred)\n",
    "    y = torch.tensor(y)\n",
    "    pp = np.linspace(min(y),max(y))\n",
    "    plt.plot(y,ypred,'.')\n",
    "    plt.plot(pp,pp)\n",
    "    plt.show()"
   ]
  },
  {
   "cell_type": "code",
   "execution_count": 61,
   "metadata": {
    "scrolled": true
   },
   "outputs": [
    {
     "name": "stdout",
     "output_type": "stream",
     "text": [
      "epoch 0 RMSE :0.584049\n",
      "epoch 1 RMSE :0.426862\n",
      "epoch 2 RMSE :0.290454\n",
      "epoch 3 RMSE :0.227497\n",
      "epoch 4 RMSE :0.203445\n",
      "epoch 5 RMSE :0.188253\n",
      "epoch 6 RMSE :0.177267\n",
      "epoch 7 RMSE :0.168331\n",
      "epoch 8 RMSE :0.161020\n",
      "epoch 9 RMSE :0.155395\n",
      "epoch 10 RMSE :0.151533\n",
      "epoch 11 RMSE :0.149334\n",
      "epoch 12 RMSE :0.148454\n",
      "epoch 13 RMSE :0.148356\n",
      "epoch 14 RMSE :0.148419\n",
      "epoch 15 RMSE :0.148074\n",
      "epoch 16 RMSE :0.146906\n",
      "epoch 17 RMSE :0.144716\n",
      "epoch 18 RMSE :0.141548\n",
      "epoch 19 RMSE :0.137678\n",
      "epoch 20 RMSE :0.133526\n",
      "epoch 21 RMSE :0.129531\n",
      "epoch 22 RMSE :0.126013\n",
      "epoch 23 RMSE :0.123105\n",
      "epoch 24 RMSE :0.120788\n",
      "epoch 25 RMSE :0.118948\n",
      "epoch 26 RMSE :0.117454\n",
      "epoch 27 RMSE :0.116186\n",
      "epoch 28 RMSE :0.115062\n",
      "epoch 29 RMSE :0.114027\n",
      "epoch 30 RMSE :0.113049\n",
      "epoch 31 RMSE :0.112110\n",
      "epoch 32 RMSE :0.111198\n",
      "epoch 33 RMSE :0.110308\n",
      "epoch 34 RMSE :0.109433\n",
      "epoch 35 RMSE :0.108570\n",
      "epoch 36 RMSE :0.107715\n",
      "epoch 37 RMSE :0.106864\n",
      "epoch 38 RMSE :0.106017\n",
      "epoch 39 RMSE :0.105169\n",
      "epoch 40 RMSE :0.104321\n",
      "epoch 41 RMSE :0.103468\n",
      "epoch 42 RMSE :0.102609\n",
      "epoch 43 RMSE :0.101743\n",
      "epoch 44 RMSE :0.100867\n",
      "epoch 45 RMSE :0.099978\n",
      "epoch 46 RMSE :0.099075\n",
      "epoch 47 RMSE :0.098155\n",
      "epoch 48 RMSE :0.097214\n",
      "epoch 49 RMSE :0.096248\n",
      "epoch 50 RMSE :0.095255\n",
      "epoch 51 RMSE :0.094230\n",
      "epoch 52 RMSE :0.093168\n",
      "epoch 53 RMSE :0.092067\n",
      "epoch 54 RMSE :0.090923\n",
      "epoch 55 RMSE :0.089732\n",
      "epoch 56 RMSE :0.088493\n",
      "epoch 57 RMSE :0.087207\n",
      "epoch 58 RMSE :0.085876\n",
      "epoch 59 RMSE :0.084505\n",
      "epoch 60 RMSE :0.083102\n",
      "epoch 61 RMSE :0.081676\n",
      "epoch 62 RMSE :0.080241\n",
      "epoch 63 RMSE :0.078807\n",
      "epoch 64 RMSE :0.077388\n",
      "epoch 65 RMSE :0.075994\n",
      "epoch 66 RMSE :0.074633\n",
      "epoch 67 RMSE :0.073314\n",
      "epoch 68 RMSE :0.072044\n",
      "epoch 69 RMSE :0.070830\n",
      "epoch 70 RMSE :0.069680\n",
      "epoch 71 RMSE :0.068601\n",
      "epoch 72 RMSE :0.067598\n",
      "epoch 73 RMSE :0.066673\n",
      "epoch 74 RMSE :0.065827\n",
      "epoch 75 RMSE :0.065057\n",
      "epoch 76 RMSE :0.064358\n",
      "epoch 77 RMSE :0.063725\n",
      "epoch 78 RMSE :0.063153\n",
      "epoch 79 RMSE :0.062635\n",
      "epoch 80 RMSE :0.062168\n",
      "epoch 81 RMSE :0.061747\n",
      "epoch 82 RMSE :0.061368\n",
      "epoch 83 RMSE :0.061031\n",
      "epoch 84 RMSE :0.060732\n",
      "epoch 85 RMSE :0.060469\n",
      "epoch 86 RMSE :0.060242\n",
      "epoch 87 RMSE :0.060049\n",
      "epoch 88 RMSE :0.059887\n",
      "epoch 89 RMSE :0.059757\n",
      "epoch 90 RMSE :0.059655\n",
      "epoch 91 RMSE :0.059581\n",
      "epoch 92 RMSE :0.059531\n",
      "epoch 93 RMSE :0.059504\n",
      "epoch 94 RMSE :0.059498\n",
      "epoch 95 RMSE :0.059509\n",
      "epoch 96 RMSE :0.059536\n",
      "epoch 97 RMSE :0.059576\n",
      "epoch 98 RMSE :0.059626\n",
      "epoch 99 RMSE :0.059684\n",
      "epoch 100 RMSE :0.059747\n",
      "epoch 101 RMSE :0.059813\n",
      "epoch 102 RMSE :0.059881\n",
      "epoch 103 RMSE :0.059947\n",
      "epoch 104 RMSE :0.060012\n",
      "epoch 105 RMSE :0.060072\n",
      "epoch 106 RMSE :0.060127\n",
      "epoch 107 RMSE :0.060176\n",
      "epoch 108 RMSE :0.060218\n",
      "epoch 109 RMSE :0.060251\n",
      "epoch 110 RMSE :0.060275\n",
      "epoch 111 RMSE :0.060290\n",
      "epoch 112 RMSE :0.060295\n",
      "epoch 113 RMSE :0.060290\n",
      "epoch 114 RMSE :0.060275\n",
      "epoch 115 RMSE :0.060250\n",
      "epoch 116 RMSE :0.060215\n",
      "epoch 117 RMSE :0.060171\n",
      "epoch 118 RMSE :0.060117\n",
      "epoch 119 RMSE :0.060053\n",
      "epoch 120 RMSE :0.059982\n",
      "epoch 121 RMSE :0.059902\n",
      "epoch 122 RMSE :0.059813\n",
      "epoch 123 RMSE :0.059718\n",
      "epoch 124 RMSE :0.059616\n",
      "epoch 125 RMSE :0.059508\n",
      "epoch 126 RMSE :0.059395\n",
      "epoch 127 RMSE :0.059276\n",
      "epoch 128 RMSE :0.059154\n",
      "epoch 129 RMSE :0.059029\n",
      "epoch 130 RMSE :0.058900\n",
      "epoch 131 RMSE :0.058769\n",
      "epoch 132 RMSE :0.058636\n",
      "epoch 133 RMSE :0.058501\n",
      "epoch 134 RMSE :0.058366\n",
      "epoch 135 RMSE :0.058230\n",
      "epoch 136 RMSE :0.058094\n",
      "epoch 137 RMSE :0.057959\n",
      "epoch 138 RMSE :0.057824\n",
      "epoch 139 RMSE :0.057690\n",
      "epoch 140 RMSE :0.057558\n",
      "epoch 141 RMSE :0.057426\n",
      "epoch 142 RMSE :0.057296\n",
      "epoch 143 RMSE :0.057168\n",
      "epoch 144 RMSE :0.057041\n",
      "epoch 145 RMSE :0.056917\n",
      "epoch 146 RMSE :0.056795\n",
      "epoch 147 RMSE :0.056675\n",
      "epoch 148 RMSE :0.056557\n",
      "epoch 149 RMSE :0.056440\n",
      "epoch 150 RMSE :0.056326\n",
      "epoch 151 RMSE :0.056215\n",
      "epoch 152 RMSE :0.056105\n",
      "epoch 153 RMSE :0.055997\n",
      "epoch 154 RMSE :0.055891\n",
      "epoch 155 RMSE :0.055788\n",
      "epoch 156 RMSE :0.055686\n",
      "epoch 157 RMSE :0.055585\n",
      "epoch 158 RMSE :0.055487\n",
      "epoch 159 RMSE :0.055391\n",
      "epoch 160 RMSE :0.055296\n",
      "epoch 161 RMSE :0.055202\n",
      "epoch 162 RMSE :0.055110\n",
      "epoch 163 RMSE :0.055020\n",
      "epoch 164 RMSE :0.054931\n",
      "epoch 165 RMSE :0.054843\n",
      "epoch 166 RMSE :0.054757\n",
      "epoch 167 RMSE :0.054671\n",
      "epoch 168 RMSE :0.054587\n",
      "epoch 169 RMSE :0.054504\n",
      "epoch 170 RMSE :0.054423\n",
      "epoch 171 RMSE :0.054342\n",
      "epoch 172 RMSE :0.054262\n",
      "epoch 173 RMSE :0.054183\n",
      "epoch 174 RMSE :0.054105\n",
      "epoch 175 RMSE :0.054029\n",
      "epoch 176 RMSE :0.053953\n",
      "epoch 177 RMSE :0.053878\n",
      "epoch 178 RMSE :0.053803\n",
      "epoch 179 RMSE :0.053730\n",
      "epoch 180 RMSE :0.053657\n",
      "epoch 181 RMSE :0.053585\n",
      "epoch 182 RMSE :0.053515\n",
      "epoch 183 RMSE :0.053444\n",
      "epoch 184 RMSE :0.053375\n",
      "epoch 185 RMSE :0.053306\n",
      "epoch 186 RMSE :0.053238\n",
      "epoch 187 RMSE :0.053170\n",
      "epoch 188 RMSE :0.053104\n",
      "epoch 189 RMSE :0.053038\n",
      "epoch 190 RMSE :0.052972\n",
      "epoch 191 RMSE :0.052908\n",
      "epoch 192 RMSE :0.052844\n",
      "epoch 193 RMSE :0.052781\n",
      "epoch 194 RMSE :0.052718\n",
      "epoch 195 RMSE :0.052656\n",
      "epoch 196 RMSE :0.052595\n",
      "epoch 197 RMSE :0.052535\n",
      "epoch 198 RMSE :0.052475\n",
      "epoch 199 RMSE :0.052416\n"
     ]
    }
   ],
   "source": [
    "model.train()\n",
    "\n",
    "for epoch in range(200):\n",
    "    for data in train_list:\n",
    "        optimizer.zero_grad()\n",
    "        data = data.to(device)\n",
    "        out = model.train()(data)\n",
    "        loss = F.mse_loss(out, data.y)\n",
    "        loss.backward()\n",
    "        optimizer.step()\n",
    "    loss_list.append(get_loss(model.eval(),train_list))\n",
    "    print('epoch %d RMSE :%f' % (epoch, loss_list[-1]**0.5))"
   ]
  },
  {
   "cell_type": "code",
   "execution_count": 62,
   "metadata": {},
   "outputs": [
    {
     "data": {
      "image/png": "[encoded data removed]",
      "text/plain": [
       "<Figure size 432x288 with 1 Axes>"
      ]
     },
     "metadata": {
      "needs_background": "light"
     },
     "output_type": "display_data"
    }
   ],
   "source": [
    "plt.plot(loss_list)\n",
    "plt.yscale('log')\n",
    "plt.show()"
   ]
  },
  {
   "cell_type": "code",
   "execution_count": 63,
   "metadata": {},
   "outputs": [
    {
     "data": {
      "text/plain": [
       "Net(\n",
       "  (conv1): CGConv(4, dim=0)\n",
       "  (conv2): CGConv(4, dim=0)\n",
       "  (lin): Linear(in_features=4, out_features=1, bias=True)\n",
       ")"
      ]
     },
     "execution_count": 63,
     "metadata": {},
     "output_type": "execute_result"
    }
   ],
   "source": [
    "model.eval()"
   ]
  },
  {
   "cell_type": "code",
   "execution_count": 64,
   "metadata": {},
   "outputs": [
    {
     "data": {
      "image/png": "[encoded data removed]",
      "text/plain": [
       "<Figure size 432x288 with 1 Axes>"
      ]
     },
     "metadata": {
      "needs_background": "light"
     },
     "output_type": "display_data"
    }
   ],
   "source": [
    "get_plot(model,train_list)"
   ]
  },
  {
   "cell_type": "code",
   "execution_count": 65,
   "metadata": {},
   "outputs": [
    {
     "data": {
      "image/png": "[encoded data removed]",
      "text/plain": [
       "<Figure size 432x288 with 1 Axes>"
      ]
     },
     "metadata": {
      "needs_background": "light"
     },
     "output_type": "display_data"
    }
   ],
   "source": [
    "get_plot(model,test_list)"
   ]
  },
  {
   "cell_type": "code",
   "execution_count": 66,
   "metadata": {},
   "outputs": [
    {
     "data": {
      "image/png": "[encoded data removed]",
      "text/plain": [
       "<Figure size 432x288 with 1 Axes>"
      ]
     },
     "metadata": {
      "needs_background": "light"
     },
     "output_type": "display_data"
    }
   ],
   "source": [
    "plt.plot(loss_list[-100:])\n",
    "plt.yscale('log')\n",
    "plt.show()"
   ]
  },
  {
   "cell_type": "code",
   "execution_count": null,
   "metadata": {},
   "outputs": [],
   "source": []
  },
  {
   "cell_type": "code",
   "execution_count": 67,
   "metadata": {},
   "outputs": [
    {
     "ename": "ValueError",
     "evalue": "min() arg is an empty sequence",
     "output_type": "error",
     "traceback": [
      "\u001b[0;31m---------------------------------------------------------------------------\u001b[0m",
      "\u001b[0;31mValueError\u001b[0m                                Traceback (most recent call last)",
      "\u001b[0;32m<ipython-input-67-4f7c527c75a8>\u001b[0m in \u001b[0;36m<module>\u001b[0;34m\u001b[0m\n\u001b[1;32m      1\u001b[0m \u001b[0mdata_list_\u001b[0m \u001b[0;34m=\u001b[0m \u001b[0mdata_list\u001b[0m\u001b[0;34m[\u001b[0m\u001b[0;36m248\u001b[0m\u001b[0;34m:\u001b[0m\u001b[0;36m269\u001b[0m\u001b[0;34m]\u001b[0m \u001b[0;31m# Pt_100\u001b[0m\u001b[0;34m\u001b[0m\u001b[0;34m\u001b[0m\u001b[0m\n\u001b[0;32m----> 2\u001b[0;31m \u001b[0mget_plot\u001b[0m\u001b[0;34m(\u001b[0m\u001b[0mmodel\u001b[0m\u001b[0;34m,\u001b[0m\u001b[0mdata_list_\u001b[0m\u001b[0;34m)\u001b[0m\u001b[0;34m\u001b[0m\u001b[0;34m\u001b[0m\u001b[0m\n\u001b[0m",
      "\u001b[0;32m<ipython-input-60-885bb00771ce>\u001b[0m in \u001b[0;36mget_plot\u001b[0;34m(model, data_list)\u001b[0m\n\u001b[1;32m      9\u001b[0m     \u001b[0mypred\u001b[0m \u001b[0;34m=\u001b[0m \u001b[0mtorch\u001b[0m\u001b[0;34m.\u001b[0m\u001b[0mtensor\u001b[0m\u001b[0;34m(\u001b[0m\u001b[0mypred\u001b[0m\u001b[0;34m)\u001b[0m\u001b[0;34m\u001b[0m\u001b[0;34m\u001b[0m\u001b[0m\n\u001b[1;32m     10\u001b[0m     \u001b[0my\u001b[0m \u001b[0;34m=\u001b[0m \u001b[0mtorch\u001b[0m\u001b[0;34m.\u001b[0m\u001b[0mtensor\u001b[0m\u001b[0;34m(\u001b[0m\u001b[0my\u001b[0m\u001b[0;34m)\u001b[0m\u001b[0;34m\u001b[0m\u001b[0;34m\u001b[0m\u001b[0m\n\u001b[0;32m---> 11\u001b[0;31m     \u001b[0mpp\u001b[0m \u001b[0;34m=\u001b[0m \u001b[0mnp\u001b[0m\u001b[0;34m.\u001b[0m\u001b[0mlinspace\u001b[0m\u001b[0;34m(\u001b[0m\u001b[0mmin\u001b[0m\u001b[0;34m(\u001b[0m\u001b[0my\u001b[0m\u001b[0;34m)\u001b[0m\u001b[0;34m,\u001b[0m\u001b[0mmax\u001b[0m\u001b[0;34m(\u001b[0m\u001b[0my\u001b[0m\u001b[0;34m)\u001b[0m\u001b[0;34m)\u001b[0m\u001b[0;34m\u001b[0m\u001b[0;34m\u001b[0m\u001b[0m\n\u001b[0m\u001b[1;32m     12\u001b[0m     \u001b[0mplt\u001b[0m\u001b[0;34m.\u001b[0m\u001b[0mplot\u001b[0m\u001b[0;34m(\u001b[0m\u001b[0my\u001b[0m\u001b[0;34m,\u001b[0m\u001b[0mypred\u001b[0m\u001b[0;34m,\u001b[0m\u001b[0;34m'.'\u001b[0m\u001b[0;34m)\u001b[0m\u001b[0;34m\u001b[0m\u001b[0;34m\u001b[0m\u001b[0m\n\u001b[1;32m     13\u001b[0m     \u001b[0mplt\u001b[0m\u001b[0;34m.\u001b[0m\u001b[0mplot\u001b[0m\u001b[0;34m(\u001b[0m\u001b[0mpp\u001b[0m\u001b[0;34m,\u001b[0m\u001b[0mpp\u001b[0m\u001b[0;34m)\u001b[0m\u001b[0;34m\u001b[0m\u001b[0;34m\u001b[0m\u001b[0m\n",
      "\u001b[0;31mValueError\u001b[0m: min() arg is an empty sequence"
     ]
    }
   ],
   "source": [
    "data_list_ = data_list[248:269] # Pt_100\n",
    "get_plot(model,data_list_)"
   ]
  },
  {
   "cell_type": "code",
   "execution_count": 68,
   "metadata": {},
   "outputs": [
    {
     "data": {
      "image/png": "[encoded data removed]",
      "text/plain": [
       "<Figure size 432x288 with 1 Axes>"
      ]
     },
     "metadata": {
      "needs_background": "light"
     },
     "output_type": "display_data"
    }
   ],
   "source": [
    "data_list_ = data_list[84:97] # Au_111\n",
    "get_plot(model,data_list_)"
   ]
  },
  {
   "cell_type": "code",
   "execution_count": 69,
   "metadata": {},
   "outputs": [
    {
     "data": {
      "image/png": "[encoded data removed]",
      "text/plain": [
       "<Figure size 432x288 with 1 Axes>"
      ]
     },
     "metadata": {
      "needs_background": "light"
     },
     "output_type": "display_data"
    }
   ],
   "source": [
    "data_list_ = data_list[44:65] # Al_100\n",
    "get_plot(model,data_list_)"
   ]
  },
  {
   "cell_type": "code",
   "execution_count": 70,
   "metadata": {},
   "outputs": [
    {
     "data": {
      "image/png": "[encoded data removed]",
      "text/plain": [
       "<Figure size 432x288 with 1 Axes>"
      ]
     },
     "metadata": {
      "needs_background": "light"
     },
     "output_type": "display_data"
    }
   ],
   "source": [
    "data_list_ = data_list # all\n",
    "get_plot(model,data_list_)"
   ]
  },
  {
   "cell_type": "code",
   "execution_count": null,
   "metadata": {},
   "outputs": [],
   "source": []
  },
  {
   "cell_type": "code",
   "execution_count": 71,
   "metadata": {},
   "outputs": [
    {
     "data": {
      "text/plain": [
       "tensor(0.0524, device='cuda:0', grad_fn=<PowBackward0>)"
      ]
     },
     "execution_count": 71,
     "metadata": {},
     "output_type": "execute_result"
    }
   ],
   "source": [
    "loss_list[-1]**0.5"
   ]
  },
  {
   "cell_type": "code",
   "execution_count": 72,
   "metadata": {},
   "outputs": [
    {
     "data": {
      "text/plain": [
       "tensor(0.0687, device='cuda:0', grad_fn=<PowBackward0>)"
      ]
     },
     "execution_count": 72,
     "metadata": {},
     "output_type": "execute_result"
    }
   ],
   "source": [
    "get_loss(model,test_list)**0.5"
   ]
  },
  {
   "cell_type": "code",
   "execution_count": 73,
   "metadata": {},
   "outputs": [
    {
     "data": {
      "text/plain": [
       "tensor(0.0583, device='cuda:0', grad_fn=<PowBackward0>)"
      ]
     },
     "execution_count": 73,
     "metadata": {},
     "output_type": "execute_result"
    }
   ],
   "source": [
    "get_loss(model,data_list_)**0.5"
   ]
  },
  {
   "cell_type": "code",
   "execution_count": null,
   "metadata": {},
   "outputs": [],
   "source": []
  },
  {
   "cell_type": "code",
   "execution_count": null,
   "metadata": {},
   "outputs": [],
   "source": []
  }
 ],
 "metadata": {
  "kernelspec": {
   "display_name": "Python 3",
   "language": "python",
   "name": "python3"
  },
  "language_info": {
   "codemirror_mode": {
    "name": "ipython",
    "version": 3
   },
   "file_extension": ".py",
   "mimetype": "text/x-python",
   "name": "python",
   "nbconvert_exporter": "python",
   "pygments_lexer": "ipython3",
   "version": "3.7.7"
  }
 },
 "nbformat": 4,
 "nbformat_minor": 2
}
