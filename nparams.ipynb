{
 "cells": [
  {
   "cell_type": "code",
   "execution_count": 1,
   "metadata": {},
   "outputs": [],
   "source": [
    "import numpy as np\n",
    "import os.path as osp\n",
    "import torch\n",
    "import torch.nn.functional as F\n",
    "from torch_geometric.data import Data, DataLoader\n",
    "from torch_geometric.nn import CGConv\n",
    "from random import shuffle, randint\n",
    "import networkx as nx\n",
    "import matplotlib.pyplot as plt\n",
    "import random\n",
    "from sklearn.preprocessing import StandardScaler\n",
    "import argparse\n",
    "import pickle\n",
    "from models import simpleNet, comp1Net, comp2Net\n",
    "from util import get_loss, get_plot\n",
    "from statistics import stdev"
   ]
  },
  {
   "cell_type": "code",
   "execution_count": 2,
   "metadata": {},
   "outputs": [],
   "source": [
    "modelname = 'n000'\n",
    "params = torch.load('./models/'+modelname+'.pth')"
   ]
  },
  {
   "cell_type": "code",
   "execution_count": 4,
   "metadata": {
    "scrolled": false
   },
   "outputs": [
    {
     "name": "stdout",
     "output_type": "stream",
     "text": [
      "torch.Size([1, 242])\n",
      "torch.Size([11, 22])\n",
      "torch.Size([1, 11])\n",
      "torch.Size([1, 242])\n",
      "torch.Size([1, 11])\n",
      "torch.Size([1, 11])\n",
      "torch.Size([1, 1])\n"
     ]
    }
   ],
   "source": [
    "print(params['conv1.lin_f.weight'].reshape(1,-1).size())\n",
    "print(params['conv1.lin_f.bias'].reshape(1,-1).size())\n",
    "print(params['conv1.lin_s.weight'].reshape(1,-1).size())\n",
    "print(params['conv1.lin_s.bias'].reshape(1,-1).size())\n",
    "\n",
    "print(params['lin.weight'].reshape(1,-1).size())\n",
    "print(params['lin.bias'].reshape(1,-1).size())"
   ]
  },
  {
   "cell_type": "code",
   "execution_count": 56,
   "metadata": {},
   "outputs": [
    {
     "name": "stdout",
     "output_type": "stream",
     "text": [
      "518\n",
      "1024\n"
     ]
    }
   ],
   "source": [
    "print(((242+11)*2)*1+11+1)\n",
    "print(((242+11)*2)*2+11+1)"
   ]
  },
  {
   "cell_type": "code",
   "execution_count": null,
   "metadata": {},
   "outputs": [],
   "source": []
  },
  {
   "cell_type": "code",
   "execution_count": 57,
   "metadata": {},
   "outputs": [],
   "source": [
    "modelname = 'n002'\n",
    "params = torch.load('./models/'+modelname+'.pth')"
   ]
  },
  {
   "cell_type": "code",
   "execution_count": 58,
   "metadata": {},
   "outputs": [
    {
     "name": "stdout",
     "output_type": "stream",
     "text": [
      "torch.Size([1, 128])\n",
      "torch.Size([1, 8])\n",
      "torch.Size([1, 128])\n",
      "torch.Size([1, 8])\n",
      "torch.Size([1, 18])\n",
      "torch.Size([1, 3])\n",
      "torch.Size([1, 18])\n",
      "torch.Size([1, 3])\n",
      "torch.Size([1, 8])\n",
      "torch.Size([1, 1])\n",
      "torch.Size([1, 3])\n",
      "torch.Size([1, 1])\n"
     ]
    }
   ],
   "source": [
    "print(params['conv1_sl.lin_f.weight'].reshape(1,-1).size())\n",
    "print(params['conv1_sl.lin_f.bias'].reshape(1,-1).size())\n",
    "print(params['conv1_sl.lin_s.weight'].reshape(1,-1).size())\n",
    "print(params['conv1_sl.lin_s.bias'].reshape(1,-1).size())\n",
    "\n",
    "print(params['conv1_ad.lin_f.weight'].reshape(1,-1).size())\n",
    "print(params['conv1_ad.lin_f.bias'].reshape(1,-1).size())\n",
    "print(params['conv1_ad.lin_s.weight'].reshape(1,-1).size())\n",
    "print(params['conv1_ad.lin_s.bias'].reshape(1,-1).size())\n",
    "\n",
    "print(params['lin_sl.weight'].reshape(1,-1).size())\n",
    "print(params['lin_sl.bias'].reshape(1,-1).size())\n",
    "\n",
    "print(params['lin_ad.weight'].reshape(1,-1).size())\n",
    "print(params['lin_ad.bias'].reshape(1,-1).size())"
   ]
  },
  {
   "cell_type": "code",
   "execution_count": 59,
   "metadata": {},
   "outputs": [
    {
     "name": "stdout",
     "output_type": "stream",
     "text": [
      "327\n",
      "641\n"
     ]
    }
   ],
   "source": [
    "print(((128+8)*2 + (18+3)*2)*1+8+1+3+1)\n",
    "print(((128+8)*2 + (18+3)*2)*2+8+1+3+1)"
   ]
  },
  {
   "cell_type": "code",
   "execution_count": null,
   "metadata": {},
   "outputs": [],
   "source": []
  },
  {
   "cell_type": "code",
   "execution_count": 60,
   "metadata": {},
   "outputs": [],
   "source": [
    "modelname = 'n004'\n",
    "params = torch.load('./models/'+modelname+'.pth')"
   ]
  },
  {
   "cell_type": "code",
   "execution_count": 61,
   "metadata": {},
   "outputs": [
    {
     "name": "stdout",
     "output_type": "stream",
     "text": [
      "torch.Size([1, 128])\n",
      "torch.Size([1, 8])\n",
      "torch.Size([1, 128])\n",
      "torch.Size([1, 8])\n",
      "torch.Size([1, 18])\n",
      "torch.Size([1, 3])\n",
      "torch.Size([1, 18])\n",
      "torch.Size([1, 3])\n",
      "torch.Size([1, 24])\n",
      "torch.Size([1, 3])\n",
      "torch.Size([1, 3])\n",
      "torch.Size([1, 1])\n"
     ]
    }
   ],
   "source": [
    "print(params['conv1_sl.lin_f.weight'].reshape(1,-1).size())\n",
    "print(params['conv1_sl.lin_f.bias'].reshape(1,-1).size())\n",
    "print(params['conv1_sl.lin_s.weight'].reshape(1,-1).size())\n",
    "print(params['conv1_sl.lin_s.bias'].reshape(1,-1).size())\n",
    "\n",
    "print(params['conv1_ad.lin_f.weight'].reshape(1,-1).size())\n",
    "print(params['conv1_ad.lin_f.bias'].reshape(1,-1).size())\n",
    "print(params['conv1_ad.lin_s.weight'].reshape(1,-1).size())\n",
    "print(params['conv1_ad.lin_s.bias'].reshape(1,-1).size())\n",
    "\n",
    "print(params['lin_sl.weight'].reshape(1,-1).size())\n",
    "print(params['lin_sl.bias'].reshape(1,-1).size())\n",
    "\n",
    "print(params['lin.weight'].reshape(1,-1).size())\n",
    "print(params['lin.bias'].reshape(1,-1).size())"
   ]
  },
  {
   "cell_type": "code",
   "execution_count": 62,
   "metadata": {},
   "outputs": [
    {
     "name": "stdout",
     "output_type": "stream",
     "text": [
      "345\n",
      "659\n"
     ]
    }
   ],
   "source": [
    "print(((128+8)*2 + (18+3)*2)*1+24+3+3+1)\n",
    "print(((128+8)*2 + (18+3)*2)*2+24+3+3+1)"
   ]
  },
  {
   "cell_type": "code",
   "execution_count": null,
   "metadata": {},
   "outputs": [],
   "source": []
  },
  {
   "cell_type": "code",
   "execution_count": 63,
   "metadata": {},
   "outputs": [],
   "source": [
    "modelname = 'n054'\n",
    "params = torch.load('./models/'+modelname+'.pth')"
   ]
  },
  {
   "cell_type": "code",
   "execution_count": 64,
   "metadata": {},
   "outputs": [
    {
     "name": "stdout",
     "output_type": "stream",
     "text": [
      "torch.Size([1, 450])\n",
      "torch.Size([1, 15])\n",
      "torch.Size([1, 450])\n",
      "torch.Size([1, 15])\n",
      "torch.Size([1, 15])\n",
      "torch.Size([1, 1])\n"
     ]
    }
   ],
   "source": [
    "print(params['conv1.lin_f.weight'].reshape(1,-1).size())\n",
    "print(params['conv1.lin_f.bias'].reshape(1,-1).size())\n",
    "print(params['conv1.lin_s.weight'].reshape(1,-1).size())\n",
    "print(params['conv1.lin_s.bias'].reshape(1,-1).size())\n",
    "\n",
    "print(params['lin.weight'].reshape(1,-1).size())\n",
    "print(params['lin.bias'].reshape(1,-1).size())"
   ]
  },
  {
   "cell_type": "code",
   "execution_count": 65,
   "metadata": {},
   "outputs": [
    {
     "name": "stdout",
     "output_type": "stream",
     "text": [
      "946\n",
      "1876\n"
     ]
    }
   ],
   "source": [
    "print(((450+15)*2)*1+15+1)\n",
    "print(((450+15)*2)*2+15+1)"
   ]
  },
  {
   "cell_type": "code",
   "execution_count": null,
   "metadata": {},
   "outputs": [],
   "source": []
  }
 ],
 "metadata": {
  "kernelspec": {
   "display_name": "Python 3",
   "language": "python",
   "name": "python3"
  },
  "language_info": {
   "codemirror_mode": {
    "name": "ipython",
    "version": 3
   },
   "file_extension": ".py",
   "mimetype": "text/x-python",
   "name": "python",
   "nbconvert_exporter": "python",
   "pygments_lexer": "ipython3",
   "version": "3.7.7"
  }
 },
 "nbformat": 4,
 "nbformat_minor": 4
}
