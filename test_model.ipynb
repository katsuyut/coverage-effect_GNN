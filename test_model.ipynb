{
 "cells": [
  {
   "cell_type": "code",
   "execution_count": 2,
   "metadata": {},
   "outputs": [
    {
     "ename": "ModuleNotFoundError",
     "evalue": "No module named 'torch'",
     "output_type": "error",
     "traceback": [
      "\u001b[0;31m---------------------------------------------------------------------------\u001b[0m",
      "\u001b[0;31mModuleNotFoundError\u001b[0m                       Traceback (most recent call last)",
      "\u001b[0;32m<ipython-input-2-12c6c38ff590>\u001b[0m in \u001b[0;36m<module>\u001b[0;34m\u001b[0m\n\u001b[1;32m     12\u001b[0m \u001b[0;32mimport\u001b[0m \u001b[0margparse\u001b[0m\u001b[0;34m\u001b[0m\u001b[0;34m\u001b[0m\u001b[0m\n\u001b[1;32m     13\u001b[0m \u001b[0;32mimport\u001b[0m \u001b[0mpickle\u001b[0m\u001b[0;34m\u001b[0m\u001b[0;34m\u001b[0m\u001b[0m\n\u001b[0;32m---> 14\u001b[0;31m \u001b[0;32mfrom\u001b[0m \u001b[0mmodels\u001b[0m \u001b[0;32mimport\u001b[0m \u001b[0msimpleNet\u001b[0m\u001b[0;34m,\u001b[0m \u001b[0mcomp1Net\u001b[0m\u001b[0;34m,\u001b[0m \u001b[0mcomp2Net\u001b[0m\u001b[0;34m\u001b[0m\u001b[0;34m\u001b[0m\u001b[0m\n\u001b[0m\u001b[1;32m     15\u001b[0m \u001b[0;32mfrom\u001b[0m \u001b[0mutil\u001b[0m \u001b[0;32mimport\u001b[0m \u001b[0mget_loss\u001b[0m\u001b[0;34m,\u001b[0m \u001b[0mget_plot\u001b[0m\u001b[0;34m\u001b[0m\u001b[0;34m\u001b[0m\u001b[0m\n\u001b[1;32m     16\u001b[0m \u001b[0;32mfrom\u001b[0m \u001b[0mstatistics\u001b[0m \u001b[0;32mimport\u001b[0m \u001b[0mstdev\u001b[0m\u001b[0;34m\u001b[0m\u001b[0;34m\u001b[0m\u001b[0m\n",
      "\u001b[0;32m~/research/coverage-effect_GNN/models.py\u001b[0m in \u001b[0;36m<module>\u001b[0;34m\u001b[0m\n\u001b[0;32m----> 1\u001b[0;31m \u001b[0;32mimport\u001b[0m \u001b[0mtorch\u001b[0m\u001b[0;34m.\u001b[0m\u001b[0mnn\u001b[0m\u001b[0;34m.\u001b[0m\u001b[0mfunctional\u001b[0m \u001b[0;32mas\u001b[0m \u001b[0mF\u001b[0m\u001b[0;34m\u001b[0m\u001b[0;34m\u001b[0m\u001b[0m\n\u001b[0m\u001b[1;32m      2\u001b[0m \u001b[0;32mfrom\u001b[0m \u001b[0mtorch_geometric\u001b[0m\u001b[0;34m.\u001b[0m\u001b[0mnn\u001b[0m \u001b[0;32mimport\u001b[0m \u001b[0mCGConv\u001b[0m\u001b[0;34m\u001b[0m\u001b[0;34m\u001b[0m\u001b[0m\n\u001b[1;32m      3\u001b[0m \u001b[0;34m\u001b[0m\u001b[0m\n\u001b[1;32m      4\u001b[0m \u001b[0;32mclass\u001b[0m \u001b[0msimpleNet\u001b[0m\u001b[0;34m(\u001b[0m\u001b[0mtorch\u001b[0m\u001b[0;34m.\u001b[0m\u001b[0mnn\u001b[0m\u001b[0;34m.\u001b[0m\u001b[0mModule\u001b[0m\u001b[0;34m)\u001b[0m\u001b[0;34m:\u001b[0m\u001b[0;34m\u001b[0m\u001b[0;34m\u001b[0m\u001b[0m\n\u001b[1;32m      5\u001b[0m     \u001b[0;32mdef\u001b[0m \u001b[0m__init__\u001b[0m\u001b[0;34m(\u001b[0m\u001b[0mself\u001b[0m\u001b[0;34m,\u001b[0m \u001b[0min_ch\u001b[0m\u001b[0;34m,\u001b[0m \u001b[0mnconv\u001b[0m\u001b[0;34m)\u001b[0m\u001b[0;34m:\u001b[0m\u001b[0;34m\u001b[0m\u001b[0;34m\u001b[0m\u001b[0m\n",
      "\u001b[0;31mModuleNotFoundError\u001b[0m: No module named 'torch'"
     ]
    }
   ],
   "source": [
    "import numpy as np\n",
    "import os.path as osp\n",
    "import torch\n",
    "import torch.nn.functional as F\n",
    "from torch_geometric.data import Data, DataLoader\n",
    "from torch_geometric.nn import CGConv\n",
    "from random import shuffle, randint\n",
    "import networkx as nx\n",
    "import matplotlib.pyplot as plt\n",
    "import random\n",
    "from sklearn.preprocessing import StandardScaler\n",
    "import argparse\n",
    "import pickle\n",
    "from models import simpleNet, comp1Net, comp2Net\n",
    "from util import get_loss, get_plot\n",
    "from statistics import stdev"
   ]
  },
  {
   "cell_type": "code",
   "execution_count": null,
   "metadata": {},
   "outputs": [],
   "source": [
    "modelname = 'n01'\n",
    "params = torch.load('./models/'+modelname+'.pth')"
   ]
  },
  {
   "cell_type": "code",
   "execution_count": null,
   "metadata": {},
   "outputs": [],
   "source": [
    "case = 'noname'\n",
    "# nepoch = 10\n",
    "mo = 'simple'\n",
    "nconv = 1\n",
    "datatype = 'data'\n",
    "ytype = 'slab' # 3:slab, 4:space, 5:all\n",
    "# lr = 0.001\n",
    "save = 'no'"
   ]
  },
  {
   "cell_type": "code",
   "execution_count": null,
   "metadata": {},
   "outputs": [],
   "source": [
    "import pickle\n",
    "\n",
    "with open('data.pickle', 'rb') as lb:\n",
    "    rdata = pickle.load(lb)\n",
    "    edge_indexes,features,surf_filters,ys_slab,ys_space,ys_all = rdata\n",
    "    \n",
    "allinone = []\n",
    "for feature in features:\n",
    "    for each in feature:\n",
    "        allinone.append(each)\n",
    "allinone = np.array(allinone)\n",
    "scaler = StandardScaler().fit(allinone[:,:8])"
   ]
  },
  {
   "cell_type": "code",
   "execution_count": null,
   "metadata": {},
   "outputs": [],
   "source": [
    "with open(datatype+'.pickle', 'rb') as lb:\n",
    "    rdata = pickle.load(lb)\n",
    "    edge_indexes,features,surf_filters = rdata[:3]\n",
    "    ys_slab,ys_space,ys_all = rdata[3:]"
   ]
  },
  {
   "cell_type": "code",
   "execution_count": null,
   "metadata": {},
   "outputs": [],
   "source": [
    "scfeatures = []\n",
    "\n",
    "for feature in features:\n",
    "    feature_sl = scaler.transform(feature[:,:8])\n",
    "    feature_ad = feature[:,8:]\n",
    "    scfeatures.append(np.concatenate((feature_sl, feature_ad), axis=1))\n",
    "    \n",
    "features = np.array(scfeatures)\n",
    "# features"
   ]
  },
  {
   "cell_type": "code",
   "execution_count": null,
   "metadata": {},
   "outputs": [],
   "source": [
    "if ytype=='slab':\n",
    "    ys = rdata[-3]\n",
    "elif ytype=='space':\n",
    "    ys = rdata[-2]\n",
    "elif ytype=='all':\n",
    "    ys = rdata[-1]"
   ]
  },
  {
   "cell_type": "code",
   "execution_count": null,
   "metadata": {},
   "outputs": [],
   "source": [
    "data_list = []\n",
    "for i in range(len(ys_all)):\n",
    "    edge_index = torch.tensor(edge_indexes[i], dtype=torch.long)\n",
    "    x = torch.tensor(features[i], dtype=torch.float)\n",
    "    surf_filter = torch.tensor(surf_filters[i], dtype=torch.long)\n",
    "    y = torch.tensor(ys_slab[i], dtype=torch.float)\n",
    "    data = Data(x=x, edge_index=edge_index, surf_filter=surf_filter, y=y)\n",
    "    data_list.append(data)"
   ]
  },
  {
   "cell_type": "code",
   "execution_count": null,
   "metadata": {},
   "outputs": [],
   "source": [
    "in_ch = len(features[0][0])\n",
    "in_ch_sl = 8\n",
    "in_ch_ad = len(features[0][0]) - 8"
   ]
  },
  {
   "cell_type": "code",
   "execution_count": null,
   "metadata": {},
   "outputs": [],
   "source": [
    "device = torch.device('cuda' if torch.cuda.is_available() else 'cpu')"
   ]
  },
  {
   "cell_type": "code",
   "execution_count": null,
   "metadata": {},
   "outputs": [],
   "source": [
    "import copy\n",
    "data_list_ = copy.deepcopy(data_list) # all"
   ]
  },
  {
   "cell_type": "code",
   "execution_count": null,
   "metadata": {},
   "outputs": [],
   "source": [
    "if mo == 'simple':\n",
    "    model = simpleNet(in_ch, nconv).to(device)\n",
    "elif mo == 'comp1':\n",
    "    model = comp1Net(in_ch_sl, in_ch_ad, nconv).to(device)\n",
    "elif mo == 'comp2':\n",
    "    model = comp2Net(in_ch_sl, in_ch_ad, nconv).to(device)"
   ]
  },
  {
   "cell_type": "code",
   "execution_count": null,
   "metadata": {},
   "outputs": [],
   "source": [
    "model.load_state_dict(params)"
   ]
  },
  {
   "cell_type": "code",
   "execution_count": null,
   "metadata": {},
   "outputs": [],
   "source": [
    "model.eval()"
   ]
  },
  {
   "cell_type": "code",
   "execution_count": null,
   "metadata": {},
   "outputs": [],
   "source": [
    "get_plot(model,data_list_)"
   ]
  },
  {
   "cell_type": "code",
   "execution_count": null,
   "metadata": {},
   "outputs": [],
   "source": [
    "allloss = get_loss(model,data_list)**0.5\n",
    "allloss"
   ]
  },
  {
   "cell_type": "code",
   "execution_count": null,
   "metadata": {},
   "outputs": [],
   "source": [
    "def get_each_data(datatype):\n",
    "    sepdata = []\n",
    "    if datatype=='data' or datatype=='data_OH':\n",
    "        sepdata.append(data_list[0:12])\n",
    "        sepdata.append(data_list[12:26])\n",
    "        sepdata.append(data_list[26:47])\n",
    "        sepdata.append(data_list[47:65])\n",
    "        sepdata.append(data_list[65:78])\n",
    "        sepdata.append(data_list[78:99])\n",
    "        sepdata.append(data_list[99:119])\n",
    "        sepdata.append(data_list[119:136])\n",
    "        sepdata.append(data_list[136:156])\n",
    "        sepdata.append(data_list[156:170])\n",
    "        sepdata.append(data_list[170:189])\n",
    "        sepdata.append(data_list[189:203])\n",
    "        sepdata.append(data_list[203:223])\n",
    "        sepdata.append(data_list[223:242])\n",
    "        sepdata.append(data_list[242:262])\n",
    "        sepdata.append(data_list[262:])\n",
    "    elif datatype=='data_100' or datatype=='data_OH_100':\n",
    "        sepdata.append(data_list[0:12])\n",
    "        sepdata.append(data_list[12:33])\n",
    "        sepdata.append(data_list[33:46])\n",
    "        sepdata.append(data_list[46:66])\n",
    "        sepdata.append(data_list[66:86])\n",
    "        sepdata.append(data_list[86:105])\n",
    "        sepdata.append(data_list[105:125])\n",
    "        sepdata.append(data_list[125:])\n",
    "    elif datatype=='data_111' or datatype=='data_OH_111':\n",
    "        sepdata.append(data_list[0:14])\n",
    "        sepdata.append(data_list[14:32])\n",
    "        sepdata.append(data_list[32:53])\n",
    "        sepdata.append(data_list[53:70])\n",
    "        sepdata.append(data_list[70:84])\n",
    "        sepdata.append(data_list[84:98])\n",
    "        sepdata.append(data_list[98:117])\n",
    "        sepdata.append(data_list[117:])\n",
    "    \n",
    "    return sepdata"
   ]
  },
  {
   "cell_type": "code",
   "execution_count": null,
   "metadata": {},
   "outputs": [],
   "source": [
    "sepdata = get_each_data(datatype)"
   ]
  },
  {
   "cell_type": "code",
   "execution_count": null,
   "metadata": {},
   "outputs": [],
   "source": [
    "i=0\n",
    "for data in sepdata:\n",
    "    print(i)\n",
    "    get_plot(model,data)\n",
    "    i+=1"
   ]
  },
  {
   "cell_type": "code",
   "execution_count": null,
   "metadata": {},
   "outputs": [],
   "source": []
  },
  {
   "cell_type": "code",
   "execution_count": null,
   "metadata": {},
   "outputs": [],
   "source": []
  }
 ],
 "metadata": {
  "kernelspec": {
   "display_name": "Python 3",
   "language": "python",
   "name": "python3"
  },
  "language_info": {
   "codemirror_mode": {
    "name": "ipython",
    "version": 3
   },
   "file_extension": ".py",
   "mimetype": "text/x-python",
   "name": "python",
   "nbconvert_exporter": "python",
   "pygments_lexer": "ipython3",
   "version": "3.6.9"
  }
 },
 "nbformat": 4,
 "nbformat_minor": 4
}
