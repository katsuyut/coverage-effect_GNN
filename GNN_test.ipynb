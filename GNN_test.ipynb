{
 "cells": [
  {
   "cell_type": "markdown",
   "metadata": {},
   "source": [
    "### It's temporally used file so any modification will be fine ###"
   ]
  },
  {
   "cell_type": "code",
   "execution_count": 1,
   "metadata": {},
   "outputs": [],
   "source": [
    "from MACalc import *\n",
    "from MAUtil import *\n",
    "from MAInit import *\n",
    "from MAPost import *\n",
    "from GASpyfuncs import *\n",
    "import time\n",
    "pd.set_option('display.max_columns', 100)\n",
    "plt.rcParams[\"font.size\"] = 14\n",
    "pd.set_option('display.max_columns', 100)\n",
    "pd.set_option('display.max_rows', 100)\n",
    "figs = [20,50]\n",
    "fign = [15,4]"
   ]
  },
  {
   "cell_type": "code",
   "execution_count": 2,
   "metadata": {},
   "outputs": [
    {
     "name": "stderr",
     "output_type": "stream",
     "text": [
      "/home/katsuyut/.local/lib/python3.6/site-packages/ase/io/jsonio.py:122: VisibleDeprecationWarning: Creating an ndarray from ragged nested sequences (which is a list-or-tuple of lists-or-tuples-or ndarrays with different lengths or shapes) is deprecated. If you meant to do this, you must specify 'dtype=object' when creating the ndarray\n",
      "  a = np.array(obj)\n"
     ]
    },
    {
     "data": {
      "text/plain": [
       "array([[0., 0., 1., 0., 0., 1., 0., 0., 1., 0., 0., 0., 0., 0., 0.],\n",
       "       [0., 0., 1., 0., 2., 0., 0., 2., 1., 0., 2., 1., 1., 0., 0.],\n",
       "       [1., 1., 0., 1., 0., 2., 1., 1., 2., 0., 1., 2., 0., 0., 0.],\n",
       "       [0., 0., 1., 0., 0., 1., 0., 0., 0., 0., 0., 1., 0., 0., 0.],\n",
       "       [0., 2., 0., 0., 0., 1., 0., 2., 1., 0., 2., 1., 0., 3., 3.],\n",
       "       [1., 0., 2., 1., 1., 0., 0., 1., 2., 1., 1., 2., 0., 0., 0.],\n",
       "       [0., 0., 1., 0., 0., 0., 0., 0., 1., 0., 0., 1., 0., 0., 0.],\n",
       "       [0., 2., 1., 0., 2., 1., 0., 0., 1., 0., 2., 0., 0., 3., 3.],\n",
       "       [1., 1., 2., 0., 1., 2., 1., 1., 0., 1., 0., 2., 0., 0., 0.],\n",
       "       [0., 0., 0., 0., 0., 1., 0., 0., 1., 0., 0., 1., 0., 0., 0.],\n",
       "       [0., 2., 1., 0., 2., 1., 0., 2., 0., 0., 0., 1., 0., 3., 3.],\n",
       "       [0., 1., 2., 1., 1., 2., 1., 0., 2., 1., 1., 0., 0., 0., 0.],\n",
       "       [0., 1., 0., 0., 0., 0., 0., 0., 0., 0., 0., 0., 0., 0., 0.],\n",
       "       [0., 0., 0., 0., 3., 0., 0., 3., 0., 0., 3., 0., 0., 0., 0.],\n",
       "       [0., 0., 0., 0., 3., 0., 0., 3., 0., 0., 3., 0., 0., 0., 0.]])"
      ]
     },
     "execution_count": 2,
     "metadata": {},
     "output_type": "execute_result"
    }
   ],
   "source": [
    "atoms = init_query('Cu_111_u2_RPBE_no006_CO_n3_d3.traj','local')\n",
    "get_coordination_matrix(atoms, expression='GNN')[0]"
   ]
  },
  {
   "cell_type": "code",
   "execution_count": 3,
   "metadata": {},
   "outputs": [],
   "source": [
    "def get_edge_index_and_feature_and_filter(atoms, adsatoms):\n",
    "    adseles = get_all_elements(adsatoms)\n",
    "    baresurface, adsites = remove_adsorbate(atoms, adseles)\n",
    "    b_mat, nads = get_coordination_matrix(atoms, expression='GNN')\n",
    "    nads = len(adsites)\n",
    "\n",
    "    features = []\n",
    "#     ads_features.append(b_mat[-1,:-1])\n",
    "    \n",
    "    ads_info = b_mat[-nads:,:-nads]\n",
    "    b_mat = b_mat[:-nads,:-nads]\n",
    "    \n",
    "    a = []\n",
    "    b = []\n",
    "    for i in range(len(b_mat)):\n",
    "        for j in range(len(b_mat)):\n",
    "            for k in range(int(b_mat[i,j])):\n",
    "                a.append(i)\n",
    "                b.append(j)\n",
    "    edge_index = np.array([a,b])\n",
    "    \n",
    "    surf_filter = []\n",
    "    \n",
    "    i = 0\n",
    "    for atom in baresurface:\n",
    "        # atom info\n",
    "        feature = []\n",
    "        inst = element(atom.symbol)\n",
    "        feature.append(inst.dipole_polarizability)\n",
    "#         feature.append(inst.density)\n",
    "#         feature.append(inst.lattice_constant)\n",
    "        feature.append(inst.vdw_radius_uff)\n",
    "\n",
    "#         feature.append(inst.group_id) # \n",
    "#         feature.append(inst.period) #\n",
    "        feature.append(inst.en_pauling)\n",
    "        feature.append(inst.covalent_radius_cordero)\n",
    "        feature.append(inst.nvalence())\n",
    "        feature.append(inst.ionenergies[1]) #\n",
    "        feature.append(inst.electron_affinity)\n",
    "#         feature.append('block') #\n",
    "        feature.append(inst.atomic_volume) #\n",
    "    \n",
    "        # adsorbate info\n",
    "        ads_feature = [0,0,0] # # of T, B, H adsorbates\n",
    "        ads_feature[0] += np.count_nonzero(ads_info[:,i]==1) # Top\n",
    "        ads_feature[1] += np.count_nonzero(ads_info[:,i]==2) # Bridge\n",
    "        ads_feature[2] += np.count_nonzero(ads_info[:,i]==3) # Hollow\n",
    "        ads_feature[2] += np.count_nonzero(ads_info[:,i]==4) # Hollow\n",
    "   \n",
    "        feature = feature + ads_feature\n",
    "        features.append(feature)\n",
    "\n",
    "        # filter\n",
    "        if atom.tag == 1:\n",
    "            surf_filter.append(1)\n",
    "        else:\n",
    "            surf_filter.append(0)\n",
    "        \n",
    "        i += 1\n",
    "    \n",
    "    \n",
    "    features = np.array(features)\n",
    "    surf_filter = np.array(surf_filter)\n",
    "    return edge_index, features, surf_filter"
   ]
  },
  {
   "cell_type": "code",
   "execution_count": 4,
   "metadata": {},
   "outputs": [
    {
     "name": "stdout",
     "output_type": "stream",
     "text": [
      "[[ 0  0  0  1  1  1  1  1  1  1  1  1  2  2  2  2  2  2  2  2  2  2  2  2\n",
      "   3  3  3  4  4  4  4  4  4  4  4  4  5  5  5  5  5  5  5  5  5  5  5  5\n",
      "   6  6  6  7  7  7  7  7  7  7  7  7  8  8  8  8  8  8  8  8  8  8  8  8\n",
      "   9  9  9 10 10 10 10 10 10 10 10 10 11 11 11 11 11 11 11 11 11 11 11 11]\n",
      " [ 2  5  8  2  4  4  7  7  8 10 10 11  0  1  3  5  5  6  7  8  8 10 11 11\n",
      "   2  5 11  1  1  5  7  7  8 10 10 11  0  2  2  3  4  7  8  8  9 10 11 11\n",
      "   2  8 11  1  1  2  4  4  5  8 10 10  0  1  2  2  4  5  5  6  7  9 11 11\n",
      "   5  8 11  1  1  2  4  4  5  7  7 11  1  2  2  3  4  5  5  6  8  8  9 10]]\n",
      "[[ 46.5     349.5       1.9     132.       11.        7.72638   1.235\n",
      "    7.1       0.        0.        0.     ]\n",
      " [ 46.5     349.5       1.9     132.       11.        7.72638   1.235\n",
      "    7.1       1.        0.        0.     ]\n",
      " [ 46.5     349.5       1.9     132.       11.        7.72638   1.235\n",
      "    7.1       0.        0.        0.     ]\n",
      " [ 46.5     349.5       1.9     132.       11.        7.72638   1.235\n",
      "    7.1       0.        0.        0.     ]\n",
      " [ 46.5     349.5       1.9     132.       11.        7.72638   1.235\n",
      "    7.1       0.        0.        2.     ]\n",
      " [ 46.5     349.5       1.9     132.       11.        7.72638   1.235\n",
      "    7.1       0.        0.        0.     ]\n",
      " [ 46.5     349.5       1.9     132.       11.        7.72638   1.235\n",
      "    7.1       0.        0.        0.     ]\n",
      " [ 46.5     349.5       1.9     132.       11.        7.72638   1.235\n",
      "    7.1       0.        0.        2.     ]\n",
      " [ 46.5     349.5       1.9     132.       11.        7.72638   1.235\n",
      "    7.1       0.        0.        0.     ]\n",
      " [ 46.5     349.5       1.9     132.       11.        7.72638   1.235\n",
      "    7.1       0.        0.        0.     ]\n",
      " [ 46.5     349.5       1.9     132.       11.        7.72638   1.235\n",
      "    7.1       0.        0.        2.     ]\n",
      " [ 46.5     349.5       1.9     132.       11.        7.72638   1.235\n",
      "    7.1       0.        0.        0.     ]]\n",
      "[0 1 0 0 1 0 0 1 0 0 1 0]\n"
     ]
    }
   ],
   "source": [
    "adsatoms = query('CO_RPBE.traj')\n",
    "edge_index, features, surf_filter = get_edge_index_and_feature_and_filter(atoms, adsatoms)\n",
    "print(edge_index)\n",
    "print(features)\n",
    "print(surf_filter)"
   ]
  },
  {
   "cell_type": "code",
   "execution_count": null,
   "metadata": {},
   "outputs": [],
   "source": []
  },
  {
   "cell_type": "code",
   "execution_count": 5,
   "metadata": {},
   "outputs": [
    {
     "name": "stdout",
     "output_type": "stream",
     "text": [
      "[46.5, 349.5, 1.9, 132.0, 11, 7.72638, 1.235, 7.1]\n",
      "[48.0, 275.4, 2.2, 136.0, 10, 8.95883, 2.128, 9.1]\n",
      "[26.14, 289.9, 2.2, 139.0, 12, 8.33686, 0.562, 8.9]\n",
      "[66.0, 292.9, 2.28, 142.0, 9, 7.4589, 1.137, 8.3]\n",
      "[36.0, 329.3, 2.4, 136.0, 11, 9.225553, 2.30863, 10.2]\n",
      "[55.0, 314.8, 1.93, 145.0, 11, 7.576234, 1.3019999999999998, 10.3]\n",
      "[49.0, 283.4, 1.91, 124.0, 10, 7.639877, 1.156, 6.6]\n",
      "[57.8, 449.9, 1.61, 121.0, 3, 5.9857684, 0.43283, 10.0]\n"
     ]
    }
   ],
   "source": [
    "symbol = ['Cu','Pt','Pd','Rh','Au','Ag','Ni','Al']\n",
    "aaaa = []\n",
    "for ele in symbol:\n",
    "    tmp = []\n",
    "    inst = element(ele)\n",
    "    tmp.append(inst.dipole_polarizability)\n",
    "#     tmp.append(inst.density)\n",
    "#     tmp.append(inst.lattice_constant)\n",
    "    tmp.append(inst.vdw_radius_uff)\n",
    "    \n",
    "#     tmp.append(inst.group_id) # \n",
    "#     tmp.append(inst.period) #\n",
    "    tmp.append(inst.en_pauling)\n",
    "    tmp.append(inst.covalent_radius_cordero)\n",
    "    tmp.append(inst.nvalence())\n",
    "    tmp.append(inst.ionenergies[1]) #\n",
    "    tmp.append(inst.electron_affinity)\n",
    "#     tmp.append('block') #\n",
    "    tmp.append(inst.atomic_volume) #\n",
    "    aaaa.append(tmp)\n",
    "    print(tmp)"
   ]
  },
  {
   "cell_type": "code",
   "execution_count": 6,
   "metadata": {},
   "outputs": [],
   "source": [
    "aaaa = np.array(aaaa)"
   ]
  },
  {
   "cell_type": "code",
   "execution_count": 7,
   "metadata": {
    "scrolled": true
   },
   "outputs": [
    {
     "name": "stdout",
     "output_type": "stream",
     "text": [
      "0 1\n"
     ]
    },
    {
     "data": {
      "image/png": "[encoded data removed]",
      "text/plain": [
       "<Figure size 432x288 with 1 Axes>"
      ]
     },
     "metadata": {
      "needs_background": "light"
     },
     "output_type": "display_data"
    },
    {
     "name": "stdout",
     "output_type": "stream",
     "text": [
      "0 2\n"
     ]
    },
    {
     "data": {
      "image/png": "[encoded data removed]",
      "text/plain": [
       "<Figure size 432x288 with 1 Axes>"
      ]
     },
     "metadata": {
      "needs_background": "light"
     },
     "output_type": "display_data"
    },
    {
     "name": "stdout",
     "output_type": "stream",
     "text": [
      "0 3\n"
     ]
    },
    {
     "data": {
      "image/png": "[encoded data removed]",
      "text/plain": [
       "<Figure size 432x288 with 1 Axes>"
      ]
     },
     "metadata": {
      "needs_background": "light"
     },
     "output_type": "display_data"
    },
    {
     "name": "stdout",
     "output_type": "stream",
     "text": [
      "0 4\n"
     ]
    },
    {
     "data": {
      "image/png": "[encoded data removed]",
      "text/plain": [
       "<Figure size 432x288 with 1 Axes>"
      ]
     },
     "metadata": {
      "needs_background": "light"
     },
     "output_type": "display_data"
    },
    {
     "name": "stdout",
     "output_type": "stream",
     "text": [
      "0 5\n"
     ]
    },
    {
     "data": {
      "image/png": "[encoded data removed]",
      "text/plain": [
       "<Figure size 432x288 with 1 Axes>"
      ]
     },
     "metadata": {
      "needs_background": "light"
     },
     "output_type": "display_data"
    },
    {
     "name": "stdout",
     "output_type": "stream",
     "text": [
      "0 6\n"
     ]
    },
    {
     "data": {
      "image/png": "[encoded data removed]",
      "text/plain": [
       "<Figure size 432x288 with 1 Axes>"
      ]
     },
     "metadata": {
      "needs_background": "light"
     },
     "output_type": "display_data"
    },
    {
     "name": "stdout",
     "output_type": "stream",
     "text": [
      "0 7\n"
     ]
    },
    {
     "data": {
      "image/png": "[encoded data removed]",
      "text/plain": [
       "<Figure size 432x288 with 1 Axes>"
      ]
     },
     "metadata": {
      "needs_background": "light"
     },
     "output_type": "display_data"
    },
    {
     "name": "stdout",
     "output_type": "stream",
     "text": [
      "1 2\n"
     ]
    },
    {
     "data": {
      "image/png": "[encoded data removed]",
      "text/plain": [
       "<Figure size 432x288 with 1 Axes>"
      ]
     },
     "metadata": {
      "needs_background": "light"
     },
     "output_type": "display_data"
    },
    {
     "name": "stdout",
     "output_type": "stream",
     "text": [
      "1 3\n"
     ]
    },
    {
     "data": {
      "image/png": "[encoded data removed]",
      "text/plain": [
       "<Figure size 432x288 with 1 Axes>"
      ]
     },
     "metadata": {
      "needs_background": "light"
     },
     "output_type": "display_data"
    },
    {
     "name": "stdout",
     "output_type": "stream",
     "text": [
      "1 4\n"
     ]
    },
    {
     "data": {
      "image/png": "[encoded data removed]",
      "text/plain": [
       "<Figure size 432x288 with 1 Axes>"
      ]
     },
     "metadata": {
      "needs_background": "light"
     },
     "output_type": "display_data"
    },
    {
     "name": "stdout",
     "output_type": "stream",
     "text": [
      "1 5\n"
     ]
    },
    {
     "data": {
      "image/png": "[encoded data removed]",
      "text/plain": [
       "<Figure size 432x288 with 1 Axes>"
      ]
     },
     "metadata": {
      "needs_background": "light"
     },
     "output_type": "display_data"
    },
    {
     "name": "stdout",
     "output_type": "stream",
     "text": [
      "1 6\n"
     ]
    },
    {
     "data": {
      "image/png": "[encoded data removed]",
      "text/plain": [
       "<Figure size 432x288 with 1 Axes>"
      ]
     },
     "metadata": {
      "needs_background": "light"
     },
     "output_type": "display_data"
    },
    {
     "name": "stdout",
     "output_type": "stream",
     "text": [
      "1 7\n"
     ]
    },
    {
     "data": {
      "image/png": "[encoded data removed]",
      "text/plain": [
       "<Figure size 432x288 with 1 Axes>"
      ]
     },
     "metadata": {
      "needs_background": "light"
     },
     "output_type": "display_data"
    },
    {
     "name": "stdout",
     "output_type": "stream",
     "text": [
      "2 3\n"
     ]
    },
    {
     "data": {
      "image/png": "[encoded data removed]",
      "text/plain": [
       "<Figure size 432x288 with 1 Axes>"
      ]
     },
     "metadata": {
      "needs_background": "light"
     },
     "output_type": "display_data"
    },
    {
     "name": "stdout",
     "output_type": "stream",
     "text": [
      "2 4\n"
     ]
    },
    {
     "data": {
      "image/png": "[encoded data removed]",
      "text/plain": [
       "<Figure size 432x288 with 1 Axes>"
      ]
     },
     "metadata": {
      "needs_background": "light"
     },
     "output_type": "display_data"
    },
    {
     "name": "stdout",
     "output_type": "stream",
     "text": [
      "2 5\n"
     ]
    },
    {
     "data": {
      "image/png": "[encoded data removed]",
      "text/plain": [
       "<Figure size 432x288 with 1 Axes>"
      ]
     },
     "metadata": {
      "needs_background": "light"
     },
     "output_type": "display_data"
    },
    {
     "name": "stdout",
     "output_type": "stream",
     "text": [
      "2 6\n"
     ]
    },
    {
     "data": {
      "image/png": "[encoded data removed]",
      "text/plain": [
       "<Figure size 432x288 with 1 Axes>"
      ]
     },
     "metadata": {
      "needs_background": "light"
     },
     "output_type": "display_data"
    },
    {
     "name": "stdout",
     "output_type": "stream",
     "text": [
      "2 7\n"
     ]
    },
    {
     "data": {
      "image/png": "[encoded data removed]",
      "text/plain": [
       "<Figure size 432x288 with 1 Axes>"
      ]
     },
     "metadata": {
      "needs_background": "light"
     },
     "output_type": "display_data"
    },
    {
     "name": "stdout",
     "output_type": "stream",
     "text": [
      "3 4\n"
     ]
    },
    {
     "data": {
      "image/png": "[encoded data removed]",
      "text/plain": [
       "<Figure size 432x288 with 1 Axes>"
      ]
     },
     "metadata": {
      "needs_background": "light"
     },
     "output_type": "display_data"
    },
    {
     "name": "stdout",
     "output_type": "stream",
     "text": [
      "3 5\n"
     ]
    },
    {
     "data": {
      "image/png": "[encoded data removed]",
      "text/plain": [
       "<Figure size 432x288 with 1 Axes>"
      ]
     },
     "metadata": {
      "needs_background": "light"
     },
     "output_type": "display_data"
    },
    {
     "name": "stdout",
     "output_type": "stream",
     "text": [
      "3 6\n"
     ]
    },
    {
     "data": {
      "image/png": "[encoded data removed]",
      "text/plain": [
       "<Figure size 432x288 with 1 Axes>"
      ]
     },
     "metadata": {
      "needs_background": "light"
     },
     "output_type": "display_data"
    },
    {
     "name": "stdout",
     "output_type": "stream",
     "text": [
      "3 7\n"
     ]
    },
    {
     "data": {
      "image/png": "[encoded data removed]",
      "text/plain": [
       "<Figure size 432x288 with 1 Axes>"
      ]
     },
     "metadata": {
      "needs_background": "light"
     },
     "output_type": "display_data"
    },
    {
     "name": "stdout",
     "output_type": "stream",
     "text": [
      "4 5\n"
     ]
    },
    {
     "data": {
      "image/png": "[encoded data removed]",
      "text/plain": [
       "<Figure size 432x288 with 1 Axes>"
      ]
     },
     "metadata": {
      "needs_background": "light"
     },
     "output_type": "display_data"
    },
    {
     "name": "stdout",
     "output_type": "stream",
     "text": [
      "4 6\n"
     ]
    },
    {
     "data": {
      "image/png": "[encoded data removed]",
      "text/plain": [
       "<Figure size 432x288 with 1 Axes>"
      ]
     },
     "metadata": {
      "needs_background": "light"
     },
     "output_type": "display_data"
    },
    {
     "name": "stdout",
     "output_type": "stream",
     "text": [
      "4 7\n"
     ]
    },
    {
     "data": {
      "image/png": "[encoded data removed]",
      "text/plain": [
       "<Figure size 432x288 with 1 Axes>"
      ]
     },
     "metadata": {
      "needs_background": "light"
     },
     "output_type": "display_data"
    },
    {
     "name": "stdout",
     "output_type": "stream",
     "text": [
      "5 6\n"
     ]
    },
    {
     "data": {
      "image/png": "[encoded data removed]",
      "text/plain": [
       "<Figure size 432x288 with 1 Axes>"
      ]
     },
     "metadata": {
      "needs_background": "light"
     },
     "output_type": "display_data"
    },
    {
     "name": "stdout",
     "output_type": "stream",
     "text": [
      "5 7\n"
     ]
    },
    {
     "data": {
      "image/png": "[encoded data removed]",
      "text/plain": [
       "<Figure size 432x288 with 1 Axes>"
      ]
     },
     "metadata": {
      "needs_background": "light"
     },
     "output_type": "display_data"
    },
    {
     "name": "stdout",
     "output_type": "stream",
     "text": [
      "6 7\n"
     ]
    },
    {
     "data": {
      "image/png": "[encoded data removed]",
      "text/plain": [
       "<Figure size 432x288 with 1 Axes>"
      ]
     },
     "metadata": {
      "needs_background": "light"
     },
     "output_type": "display_data"
    }
   ],
   "source": [
    "for i in range(len(aaaa[0])):\n",
    "    for j in range(i+1,len(aaaa[0])):\n",
    "        print(i,j)\n",
    "        plt.plot(aaaa[:,i],aaaa[:,j],'.')\n",
    "        plt.show()"
   ]
  },
  {
   "cell_type": "code",
   "execution_count": 11,
   "metadata": {},
   "outputs": [],
   "source": [
    "import pandas as pd"
   ]
  },
  {
   "cell_type": "code",
   "execution_count": 16,
   "metadata": {},
   "outputs": [
    {
     "data": {
      "text/html": [
       "<div>\n",
       "<style scoped>\n",
       "    .dataframe tbody tr th:only-of-type {\n",
       "        vertical-align: middle;\n",
       "    }\n",
       "\n",
       "    .dataframe tbody tr th {\n",
       "        vertical-align: top;\n",
       "    }\n",
       "\n",
       "    .dataframe thead th {\n",
       "        text-align: right;\n",
       "    }\n",
       "</style>\n",
       "<table border=\"1\" class=\"dataframe\">\n",
       "  <thead>\n",
       "    <tr style=\"text-align: right;\">\n",
       "      <th></th>\n",
       "      <th>0</th>\n",
       "      <th>1</th>\n",
       "      <th>2</th>\n",
       "      <th>3</th>\n",
       "      <th>4</th>\n",
       "      <th>5</th>\n",
       "      <th>6</th>\n",
       "      <th>7</th>\n",
       "    </tr>\n",
       "  </thead>\n",
       "  <tbody>\n",
       "    <tr>\n",
       "      <th>0</th>\n",
       "      <td>True</td>\n",
       "      <td>False</td>\n",
       "      <td>False</td>\n",
       "      <td>False</td>\n",
       "      <td>False</td>\n",
       "      <td>False</td>\n",
       "      <td>False</td>\n",
       "      <td>False</td>\n",
       "    </tr>\n",
       "    <tr>\n",
       "      <th>1</th>\n",
       "      <td>False</td>\n",
       "      <td>True</td>\n",
       "      <td>False</td>\n",
       "      <td>False</td>\n",
       "      <td>False</td>\n",
       "      <td>False</td>\n",
       "      <td>False</td>\n",
       "      <td>False</td>\n",
       "    </tr>\n",
       "    <tr>\n",
       "      <th>2</th>\n",
       "      <td>False</td>\n",
       "      <td>False</td>\n",
       "      <td>True</td>\n",
       "      <td>False</td>\n",
       "      <td>False</td>\n",
       "      <td>True</td>\n",
       "      <td>False</td>\n",
       "      <td>False</td>\n",
       "    </tr>\n",
       "    <tr>\n",
       "      <th>3</th>\n",
       "      <td>False</td>\n",
       "      <td>False</td>\n",
       "      <td>False</td>\n",
       "      <td>True</td>\n",
       "      <td>False</td>\n",
       "      <td>False</td>\n",
       "      <td>False</td>\n",
       "      <td>False</td>\n",
       "    </tr>\n",
       "    <tr>\n",
       "      <th>4</th>\n",
       "      <td>False</td>\n",
       "      <td>False</td>\n",
       "      <td>False</td>\n",
       "      <td>False</td>\n",
       "      <td>True</td>\n",
       "      <td>False</td>\n",
       "      <td>False</td>\n",
       "      <td>False</td>\n",
       "    </tr>\n",
       "    <tr>\n",
       "      <th>5</th>\n",
       "      <td>False</td>\n",
       "      <td>False</td>\n",
       "      <td>True</td>\n",
       "      <td>False</td>\n",
       "      <td>False</td>\n",
       "      <td>True</td>\n",
       "      <td>False</td>\n",
       "      <td>False</td>\n",
       "    </tr>\n",
       "    <tr>\n",
       "      <th>6</th>\n",
       "      <td>False</td>\n",
       "      <td>False</td>\n",
       "      <td>False</td>\n",
       "      <td>False</td>\n",
       "      <td>False</td>\n",
       "      <td>False</td>\n",
       "      <td>True</td>\n",
       "      <td>False</td>\n",
       "    </tr>\n",
       "    <tr>\n",
       "      <th>7</th>\n",
       "      <td>False</td>\n",
       "      <td>False</td>\n",
       "      <td>False</td>\n",
       "      <td>False</td>\n",
       "      <td>False</td>\n",
       "      <td>False</td>\n",
       "      <td>False</td>\n",
       "      <td>True</td>\n",
       "    </tr>\n",
       "  </tbody>\n",
       "</table>\n",
       "</div>"
      ],
      "text/plain": [
       "       0      1      2      3      4      5      6      7\n",
       "0   True  False  False  False  False  False  False  False\n",
       "1  False   True  False  False  False  False  False  False\n",
       "2  False  False   True  False  False   True  False  False\n",
       "3  False  False  False   True  False  False  False  False\n",
       "4  False  False  False  False   True  False  False  False\n",
       "5  False  False   True  False  False   True  False  False\n",
       "6  False  False  False  False  False  False   True  False\n",
       "7  False  False  False  False  False  False  False   True"
      ]
     },
     "execution_count": 16,
     "metadata": {},
     "output_type": "execute_result"
    }
   ],
   "source": [
    "bbbb = pd.DataFrame(aaaa)\n",
    "bbbb.corr() > 0.8"
   ]
  },
  {
   "cell_type": "code",
   "execution_count": 17,
   "metadata": {
    "scrolled": false
   },
   "outputs": [
    {
     "data": {
      "image/png": "[encoded data removed]",
      "text/plain": [
       "<Figure size 720x360 with 2 Axes>"
      ]
     },
     "metadata": {
      "needs_background": "light"
     },
     "output_type": "display_data"
    }
   ],
   "source": [
    "plt.figure(figsize=(10,5))\n",
    "plt.matshow(bbbb.corr(), fignum=1)\n",
    "plt.colorbar()\n",
    "plt.show()"
   ]
  },
  {
   "cell_type": "code",
   "execution_count": null,
   "metadata": {},
   "outputs": [],
   "source": []
  },
  {
   "cell_type": "code",
   "execution_count": null,
   "metadata": {},
   "outputs": [],
   "source": []
  }
 ],
 "metadata": {
  "kernelspec": {
   "display_name": "Python 3",
   "language": "python",
   "name": "python3"
  },
  "language_info": {
   "codemirror_mode": {
    "name": "ipython",
    "version": 3
   },
   "file_extension": ".py",
   "mimetype": "text/x-python",
   "name": "python",
   "nbconvert_exporter": "python",
   "pygments_lexer": "ipython3",
   "version": "3.6.9"
  }
 },
 "nbformat": 4,
 "nbformat_minor": 2
}
